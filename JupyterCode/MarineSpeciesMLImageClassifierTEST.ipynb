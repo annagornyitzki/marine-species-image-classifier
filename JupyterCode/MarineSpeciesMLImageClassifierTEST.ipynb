{
 "cells": [
  {
   "cell_type": "markdown",
   "id": "9e999b18-fef5-43ab-9158-924babea3a98",
   "metadata": {},
   "source": [
    "## Marine Species Image Classifier (Part 2 Test)"
   ]
  },
  {
   "cell_type": "code",
   "execution_count": null,
   "id": "5cc7b4ae-8213-42ea-8d2a-b754a6cf9484",
   "metadata": {},
   "outputs": [],
   "source": [
    "# loading images and their predictions \n",
    "from google.cloud import storage\n",
    "from sklearn.metrics import confusion_matrix, classification_report, accuracy_score\n",
    "import numpy as np\n",
    "from PIL import Image\n",
    "import os\n",
    "\n",
    "# import cv2\n",
    "\n",
    "# Initialize GCS client\n",
    "storage_client = storage.Client()\n",
    "bucket_name = 'marine-science-image-bucket'  # Replace with your GCS bucket name\n",
    "bucket = storage_client.get_bucket(bucket_name)\n",
    "\n",
    "ORIGINAL_TEST_DIR = 'marine-science-image-bucket/images/test/'  # Replace with your test directory path in the bucket\n",
    "IMAGE_SIZE = 256  # Replace with your desired image size\n",
    "labels = ['class1', 'class2', 'class3']  # Replace with your actual class labels\n",
    "\n",
    "prediction = []\n",
    "original = []\n",
    "image = []\n",
    "count = 0\n",
    "\n",
    "# List blobs in the GCS bucket\n",
    "blobs = storage_client.list_blobs(bucket_name, prefix=ORIGINAL_TEST_DIR)\n",
    "\n",
    "for blob in blobs:\n",
    "    if blob.name.endswith('/'):\n",
    "        continue  # Skip directories\n",
    "\n",
    "    # Extract the class name from the blob path\n",
    "    class_name = os.path.basename(os.path.dirname(blob.name))\n",
    "    \n",
    "    # Download the blob to a temporary file\n",
    "    blob_bytes = blob.download_as_bytes()\n",
    "    \n",
    "    # Open the image using PIL\n",
    "    img = Image.open(io.BytesIO(blob_bytes))\n",
    "    \n",
    "    # Resize the image\n",
    "    img = img.resize((IMAGE_SIZE, IMAGE_SIZE))\n",
    "    \n",
    "    # Append image to the image list\n",
    "    image.append(img)\n",
    "    \n",
    "    # Convert image to array\n",
    "    img = np.asarray(img, dtype=np.float32)\n",
    "    \n",
    "    # Normalize the image\n",
    "    img = img / 255\n",
    "    \n",
    "    # Reshape the image into a 4D array\n",
    "    img = img.reshape(-1, IMAGE_SIZE, IMAGE_SIZE, 3)\n",
    "    \n",
    "    # Make prediction using the model\n",
    "    predict = model.predict(img)\n",
    "    \n",
    "    # Get the index corresponding to the highest value in the prediction\n",
    "    predict = np.argmax(predict)\n",
    "    \n",
    "    # Append the predicted class to the list\n",
    "    prediction.append(labels[predict])\n",
    "    \n",
    "    # Append the original class to the list\n",
    "    original.append(class_name)"
   ]
  },
  {
   "cell_type": "code",
   "execution_count": null,
   "id": "2af9a8d3-323a-4571-8316-1da6488829ba",
   "metadata": {},
   "outputs": [],
   "source": [
    "# visualizing the results\n",
    "import random\n",
    "fig=plt.figure(figsize = (25,30))\n",
    "for i in range(20):\n",
    "    j = random.randint(0,len(image))\n",
    "    fig.add_subplot(5,4,i+1)\n",
    "    fig.suptitle('Test Predictions', fontsize=40)\n",
    "    plt.xlabel(\"Prediction -\" + prediction[j] +\"   Original -\" + original[j] , fontsize=22)\n",
    "    plt.imshow(image[j])\n",
    "fig.tight_layout()"
   ]
  },
  {
   "cell_type": "code",
   "execution_count": null,
   "id": "c728dee1-4e66-4ee9-8a31-13331682ae86",
   "metadata": {},
   "outputs": [],
   "source": [
    "# plot confusion matrix\n",
    "\n",
    "plt.figure(figsize=(20,10))\n",
    "\n",
    "display_labels=['Fish', 'Goldfish', 'HarborSeal', 'Jellyfish', 'Lobster', 'Oyster', 'SeaTurtle', 'Squid', 'Starfish']\n",
    "cm = confusion_matrix(np.asarray(original), np.asarray(prediction))\n",
    "ax = plt.subplot()\n",
    "sns.heatmap(cm, annot = True, ax = ax , xticklabels=display_labels, yticklabels=display_labels)\n",
    "\n",
    "ax.set_xlabel('Predicted')\n",
    "ax.set_ylabel('Original')\n",
    "ax.set_title('Confusion_matrix')"
   ]
  }
 ],
 "metadata": {
  "environment": {
   "kernel": "conda-base-py",
   "name": "workbench-notebooks.m124",
   "type": "gcloud",
   "uri": "us-docker.pkg.dev/deeplearning-platform-release/gcr.io/workbench-notebooks:m124"
  },
  "kernelspec": {
   "display_name": "Python 3 (ipykernel)",
   "language": "python",
   "name": "conda-base-py"
  },
  "language_info": {
   "codemirror_mode": {
    "name": "ipython",
    "version": 3
   },
   "file_extension": ".py",
   "mimetype": "text/x-python",
   "name": "python",
   "nbconvert_exporter": "python",
   "pygments_lexer": "ipython3",
   "version": "3.10.14"
  }
 },
 "nbformat": 4,
 "nbformat_minor": 5
}
